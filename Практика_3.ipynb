{
  "nbformat": 4,
  "nbformat_minor": 0,
  "metadata": {
    "colab": {
      "provenance": [],
      "collapsed_sections": [],
      "authorship_tag": "ABX9TyM/lCG28xvxxxEx9po8vEpx",
      "include_colab_link": true
    },
    "kernelspec": {
      "name": "python3",
      "display_name": "Python 3"
    },
    "language_info": {
      "name": "python"
    }
  },
  "cells": [
    {
      "cell_type": "markdown",
      "metadata": {
        "id": "view-in-github",
        "colab_type": "text"
      },
      "source": [
        "<a href=\"https://colab.research.google.com/github/Somnarium/misisCourses/blob/main/%D0%9F%D1%80%D0%B0%D0%BA%D1%82%D0%B8%D0%BA%D0%B0_3.ipynb\" target=\"_parent\"><img src=\"https://colab.research.google.com/assets/colab-badge.svg\" alt=\"Open In Colab\"/></a>"
      ]
    },
    {
      "cell_type": "code",
      "execution_count": null,
      "metadata": {
        "id": "oVLBKCAWrpXB"
      },
      "outputs": [],
      "source": [
        "#1\n",
        "N = int(input())\n",
        "i = 1\n",
        "while i**2 <= N:\n",
        "  print(i**2)\n",
        "  i+=1"
      ]
    },
    {
      "cell_type": "code",
      "source": [
        "#2\n",
        "number = int(input())\n",
        "i = 1\n",
        "while True:\n",
        "  i+=1\n",
        "  if number % i == 0:\n",
        "    break\n",
        "  else:\n",
        "    continue\n",
        "print(i)"
      ],
      "metadata": {
        "id": "4UGWf_hWsvly"
      },
      "execution_count": null,
      "outputs": []
    },
    {
      "cell_type": "code",
      "source": [
        "#3\n",
        "N = int(input())\n",
        "i = 1\n",
        "while i < N:\n",
        "  i = i * 2\n",
        "if i == N:\n",
        "    print(\"YES\")\n",
        "else:\n",
        "    print(\"NO\")\n"
      ],
      "metadata": {
        "id": "f8YqcFrMteiC"
      },
      "execution_count": null,
      "outputs": []
    },
    {
      "cell_type": "code",
      "source": [
        "#4\n",
        "M = int(input())\n",
        "N = int(input())\n",
        "if M%2 == 0:\n",
        "  while M <= N:\n",
        "    print(M**3)\n",
        "    M+=2\n",
        "else:\n",
        "  M+=1\n",
        "  while M <= N:\n",
        "    print(M**3)\n",
        "    M+=2\n"
      ],
      "metadata": {
        "id": "ZAUk69KluIUH"
      },
      "execution_count": null,
      "outputs": []
    },
    {
      "cell_type": "code",
      "source": [
        "#5\n",
        "i=100\n",
        "while i<1000:\n",
        "    if i%3 == 0:\n",
        "      print(i)\n",
        "    i+=1\n"
      ],
      "metadata": {
        "id": "O57aRROhu3dY"
      },
      "execution_count": null,
      "outputs": []
    },
    {
      "cell_type": "code",
      "source": [
        "#6\n",
        "N = int(input())\n",
        "s = 0\n",
        "while N>0:\n",
        "  digit = N % 10\n",
        "  s = s + digit\n",
        "  N = N // 10\n",
        "print(s)   "
      ],
      "metadata": {
        "id": "-6XNo_Wcvw8q"
      },
      "execution_count": null,
      "outputs": []
    },
    {
      "cell_type": "code",
      "source": [
        "#7\n",
        "P = int(input())\n",
        "S = int(input())\n",
        "i = 1\n",
        "while P <= S:\n",
        "  S = S - P\n",
        "  P = P * 1.1\n",
        "  i += 1\n",
        "print(i)\n"
      ],
      "metadata": {
        "id": "-KurzG4OwwK5"
      },
      "execution_count": null,
      "outputs": []
    },
    {
      "cell_type": "code",
      "source": [
        "#8\n",
        "n = int(input())\n",
        "s = 1\n",
        "while s < n**2:\n",
        "  s+=2\n",
        "print(s)"
      ],
      "metadata": {
        "colab": {
          "base_uri": "https://localhost:8080/"
        },
        "id": "czpauxWlxx-x",
        "outputId": "4eee2bc7-d948-4f38-da4c-427d6252ca38"
      },
      "execution_count": null,
      "outputs": [
        {
          "output_type": "stream",
          "name": "stdout",
          "text": [
            "15\n",
            "225\n"
          ]
        }
      ]
    },
    {
      "cell_type": "code",
      "source": [
        "#9\n",
        "import math\n",
        "x = int(input())\n",
        "p = int(input())\n",
        "y = int(input())\n",
        "i = 0\n",
        "while x < y:\n",
        "  x += x * p // 100\n",
        "  i+=1\n",
        "print(i)"
      ],
      "metadata": {
        "colab": {
          "base_uri": "https://localhost:8080/"
        },
        "id": "U3mMhQf9yaVZ",
        "outputId": "a6e2b7cb-c759-4045-832f-b6c51e65478e"
      },
      "execution_count": null,
      "outputs": [
        {
          "output_type": "stream",
          "name": "stdout",
          "text": [
            "100\n",
            "10\n",
            "200\n",
            "8\n"
          ]
        }
      ]
    },
    {
      "cell_type": "code",
      "source": [
        "#10\n",
        "fib1 = 1\n",
        "fib2 = 1\n",
        "n = int(input())\n",
        "i = 0\n",
        "while i < n - 2:\n",
        "    fib_sum = fib1 + fib2\n",
        "    fib1 = fib2\n",
        "    fib2 = fib_sum\n",
        "    i = i + 1\n",
        "print(fib2)"
      ],
      "metadata": {
        "colab": {
          "base_uri": "https://localhost:8080/"
        },
        "id": "gB6xxrUD0Bru",
        "outputId": "ad374cc0-3192-4912-d976-ae191a608697"
      },
      "execution_count": null,
      "outputs": [
        {
          "output_type": "stream",
          "name": "stdout",
          "text": [
            "11\n",
            "89\n"
          ]
        }
      ]
    },
    {
      "cell_type": "code",
      "source": [
        "#11\n",
        "n = int(input())\n",
        "i = 0\n",
        "prev_n = 0\n",
        "next_n= 1\n",
        "result = 0\n",
        "while result < n:\n",
        "  prev_n = next_n\n",
        "  next_n = result\n",
        "  result = prev_n + next_n\n",
        "  i+=1\n",
        "if result == n:\n",
        "  print(i)\n",
        "else: print('-1')\n"
      ],
      "metadata": {
        "colab": {
          "base_uri": "https://localhost:8080/"
        },
        "id": "r3yQT74BKLjf",
        "outputId": "161b32fd-84fa-423f-ab6f-417ddd464753"
      },
      "execution_count": 5,
      "outputs": [
        {
          "output_type": "stream",
          "name": "stdout",
          "text": [
            "8\n",
            "6\n"
          ]
        }
      ]
    },
    {
      "cell_type": "code",
      "source": [
        "#12\n",
        "a, b = int(input()), int(input())\n",
        "while a!=b:\n",
        "  if (a//2>=b) and (a%2 == 0):\n",
        "    print ('Разделить на 2')\n",
        "    a//=2\n",
        "  else:\n",
        "    print ('Вычесть 1')\n",
        "    a-=1"
      ],
      "metadata": {
        "id": "wVQ5XZzuKMKB"
      },
      "execution_count": null,
      "outputs": []
    },
    {
      "cell_type": "code",
      "source": [
        "#13\n",
        "#hz kak delat esli chestno"
      ],
      "metadata": {
        "id": "YV8BnBPoKMdp"
      },
      "execution_count": null,
      "outputs": []
    }
  ]
}